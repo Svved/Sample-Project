{
 "cells": [
  {
   "cell_type": "code",
   "execution_count": 66,
   "id": "76f11da9",
   "metadata": {},
   "outputs": [
    {
     "data": {
      "text/plain": [
       "\"\\ncolonne dati :\\n1. Età\\n2. NumeroGravidanzePregresse\\n3. NumeroTagliCesareiPregressi\\n4. PrecedentePlacentaPrevia (0 o 1)\\n5. SanguinamentiNelSecondoTrimestre (0 o 1)\\n6. InsulinaSiericaDueOre (microunità per millilitro di sangue)\\n7. IndiceDiMassaCorporea (peso in chilogrammi diviso l'altezza al quadrato espressa in metri)\\n8. FecondazioneAssisitita (0 o 1)\\n9. PazienteAffettaDaPlacentaPrevia (0 o 1 -> colonna target)\\n\""
      ]
     },
     "execution_count": 66,
     "metadata": {},
     "output_type": "execute_result"
    }
   ],
   "source": [
    "# librerie\n",
    "import pandas as pd\n",
    "import numpy as np\n",
    "from sklearn.model_selection import train_test_split, GridSearchCV\n",
    "from sklearn.preprocessing import StandardScaler\n",
    "from sklearn.metrics import classification_report, confusion_matrix, ConfusionMatrixDisplay, roc_auc_score, f1_score\n",
    "from sklearn.linear_model import LogisticRegression\n",
    "from sklearn.ensemble import RandomForestClassifier\n",
    "from sklearn.neighbors import KNeighborsClassifier\n",
    "import seaborn as sns\n",
    "import xgboost as xgb\n",
    "import matplotlib.pyplot as plt\n",
    "import joblib\n",
    "import os\n",
    "\n",
    "\"\"\"\n",
    "colonne dati :\n",
    "1. Età\n",
    "2. NumeroGravidanzePregresse\n",
    "3. NumeroTagliCesareiPregressi\n",
    "4. PrecedentePlacentaPrevia (0 o 1)\n",
    "5. SanguinamentiNelSecondoTrimestre (0 o 1)\n",
    "6. InsulinaSiericaDueOre (microunità per millilitro di sangue)\n",
    "7. IndiceDiMassaCorporea (peso in chilogrammi diviso l'altezza al quadrato espressa in metri)\n",
    "8. FecondazioneAssisitita (0 o 1)\n",
    "9. PazienteAffettaDaPlacentaPrevia (0 o 1 -> colonna target)\n",
    "\"\"\""
   ]
  },
  {
   "cell_type": "code",
   "execution_count": 67,
   "id": "c4f35c3d",
   "metadata": {},
   "outputs": [],
   "source": [
    "# carico i dati\n",
    "dati = pd.read_csv('/Users/marcosalvato/Desktop/salvato_marco-prova_pratica/dati/DatiCSV_placentaprevia_puliti.csv')"
   ]
  },
  {
   "cell_type": "code",
   "execution_count": 68,
   "id": "ef0e3a93",
   "metadata": {},
   "outputs": [
    {
     "name": "stdout",
     "output_type": "stream",
     "text": [
      "\n",
      "Dati splittati in training (7631) e test (1908).\n",
      "Distribuzione del target nel training set (prima del bilanciamento):\n",
      "PazienteAffettaDaPlacentaPrevia\n",
      "0    0.899227\n",
      "1    0.100773\n",
      "Name: proportion, dtype: float64\n"
     ]
    }
   ],
   "source": [
    "# creo un train-test split\n",
    "X = dati.drop('PazienteAffettaDaPlacentaPrevia', axis=1)  # caratteristiche\n",
    "y = dati['PazienteAffettaDaPlacentaPrevia']  # target\n",
    "X_train, X_test, y_train, y_test = train_test_split(X, y, test_size=0.2, random_state=42, stratify=y) # seed 42\n",
    "print(f\"\\nDati splittati in training ({len(X_train)}) e test ({len(X_test)}).\")\n",
    "print(f\"Distribuzione del target nel training set (prima del bilanciamento):\\n{y_train.value_counts(normalize=True)}\")"
   ]
  },
  {
   "cell_type": "code",
   "execution_count": 69,
   "id": "43bb78b4",
   "metadata": {},
   "outputs": [
    {
     "name": "stdout",
     "output_type": "stream",
     "text": [
      "Dimensioni del training set dopo Undersampling: (1538, 8)\n",
      "Nuova distribuzione del target nel training set:\n",
      "PazienteAffettaDaPlacentaPrevia\n",
      "0    0.5\n",
      "1    0.5\n",
      "Name: proportion, dtype: float64\n"
     ]
    }
   ],
   "source": [
    "# Uniamo X_train e y_train per facilitare il campionamento\n",
    "train_data = pd.concat([X_train, y_train], axis=1)\n",
    "\n",
    "# Applicazione di Random Undersampling per bilanciare il training set\n",
    "# Separiamo le classi\n",
    "majority_class = train_data[train_data['PazienteAffettaDaPlacentaPrevia'] == 0]\n",
    "minority_class = train_data[train_data['PazienteAffettaDaPlacentaPrevia'] == 1]\n",
    "\n",
    "# Sottocampioniamo la classe di maggioranza per avere lo stesso numero di campioni della classe di minoranza\n",
    "majority_downsampled = majority_class.sample(\n",
    "    n=len(minority_class),\n",
    "    replace=False, # Non vogliamo campionare la stessa riga più volte\n",
    "    random_state=42\n",
    ")\n",
    "\n",
    "# Combiniamo la classe di minoranza con la classe di maggioranza sottocampionata\n",
    "train_data_balanced = pd.concat([majority_downsampled, minority_class])\n",
    "\n",
    "# Mischiamo i dati per evitare che il modello li veda in un ordine specifico\n",
    "train_data_balanced = train_data_balanced.sample(frac=1, random_state=42).reset_index(drop=True)\n",
    "\n",
    "# Separiamo di nuovo X e y\n",
    "X_train_resampled = train_data_balanced.drop('PazienteAffettaDaPlacentaPrevia', axis=1)\n",
    "y_train_resampled = train_data_balanced['PazienteAffettaDaPlacentaPrevia']\n",
    "\n",
    "print(f\"Dimensioni del training set dopo Undersampling: {X_train_resampled.shape}\")\n",
    "print(f\"Nuova distribuzione del target nel training set:\\n{y_train_resampled.value_counts(normalize=True)}\")"
   ]
  },
  {
   "cell_type": "code",
   "execution_count": 70,
   "id": "dbb5d54e",
   "metadata": {},
   "outputs": [],
   "source": [
    "# normalizzo di dati numerici non categorici O/1 utilizzando lo StandardScaler\n",
    "scaler = StandardScaler()\n",
    "X_train_scaled = scaler.fit_transform(X_train_resampled)\n",
    "X_test_scaled = scaler.transform(X_test)"
   ]
  },
  {
   "cell_type": "code",
   "execution_count": 71,
   "id": "63e6ef39",
   "metadata": {},
   "outputs": [],
   "source": [
    "# preparo una pipeline molto semplice per testare inizialmente 2-3 modelli di classificazione\n",
    "\n",
    "# modelli\n",
    "# Definiamo i modelli e una piccola griglia di parametri da testare\n",
    "models_and_params = {\n",
    "    \"Logistic Regression\": (LogisticRegression(solver='liblinear', random_state=42), {\n",
    "        'C': [0.1, 1.0, 10.0]\n",
    "    }),\n",
    "    \"Random Forest\": (RandomForestClassifier(random_state=42, n_jobs=-1), {\n",
    "        'n_estimators': [100, 200],\n",
    "        'max_depth': [10, 20],\n",
    "        'min_samples_leaf': [2, 4]\n",
    "    }),\n",
    "    \"XGBoost\": (xgb.XGBClassifier(eval_metric='logloss', random_state=42), {\n",
    "        'n_estimators': [100, 200],\n",
    "        'learning_rate': [0.01, 0.1],\n",
    "        'max_depth': [3, 5]\n",
    "    }),\n",
    "    \"K-Nearest Neighbors\": (KNeighborsClassifier(n_jobs=-1), {\n",
    "        'n_neighbors': [3, 5, 7],\n",
    "        'weights': ['uniform', 'distance']\n",
    "    })\n",
    "}"
   ]
  },
  {
   "cell_type": "code",
   "execution_count": 72,
   "id": "bb31892e",
   "metadata": {},
   "outputs": [
    {
     "name": "stdout",
     "output_type": "stream",
     "text": [
      "\n",
      "--- Tuning e Valutazione: Logistic Regression ---\n",
      "Migliori parametri trovati: {'C': 0.1}\n",
      "ROC AUC: 0.9893\n",
      "Optimal F1-Score: 0.9574 trovato alla soglia: 0.72\n",
      "*** Nuovo miglior modello trovato: Logistic Regression ***\n",
      "\n",
      "--- Tuning e Valutazione: Random Forest ---\n",
      "Migliori parametri trovati: {'max_depth': 10, 'min_samples_leaf': 2, 'n_estimators': 100}\n",
      "ROC AUC: 1.0000\n",
      "Optimal F1-Score: 0.9922 trovato alla soglia: 0.40\n",
      "*** Nuovo miglior modello trovato: Random Forest ***\n",
      "\n",
      "--- Tuning e Valutazione: XGBoost ---\n",
      "Migliori parametri trovati: {'learning_rate': 0.1, 'max_depth': 5, 'n_estimators': 200}\n",
      "ROC AUC: 1.0000\n",
      "Optimal F1-Score: 0.9897 trovato alla soglia: 0.47\n",
      "\n",
      "--- Tuning e Valutazione: K-Nearest Neighbors ---\n",
      "Migliori parametri trovati: {'n_neighbors': 3, 'weights': 'distance'}\n",
      "ROC AUC: 0.9855\n",
      "Optimal F1-Score: 0.9452 trovato alla soglia: 0.72\n"
     ]
    }
   ],
   "source": [
    "# training e ricerca soglie\n",
    "\n",
    "best_f1_score = 0.0\n",
    "best_model_name = \"\"\n",
    "best_model_instance = None\n",
    "best_model_threshold = 0.5\n",
    "\n",
    "for name, (model, params) in models_and_params.items():\n",
    "    print(f\"\\n--- Tuning e Valutazione: {name} ---\")\n",
    "\n",
    "    # Usa GridSearchCV per trovare i migliori iperparametri\n",
    "    grid_search = GridSearchCV(model, params, cv=5, scoring='f1', n_jobs=-1)\n",
    "    grid_search.fit(X_train_scaled, y_train_resampled)\n",
    "    \n",
    "    print(f\"Migliori parametri trovati: {grid_search.best_params_}\")\n",
    "    \n",
    "    # Usa il miglior modello trovato dalla grid search\n",
    "    best_clf_from_grid = grid_search.best_estimator_\n",
    "\n",
    "    y_prob = best_clf_from_grid.predict_proba(X_test_scaled)[:, 1]\n",
    "    \n",
    "    thresholds = np.arange(0.01, 1.0, 0.01)\n",
    "    f1_scores = [f1_score(y_test, (y_prob >= t).astype(int)) for t in thresholds]\n",
    "    \n",
    "    optimal_idx = np.argmax(f1_scores)\n",
    "    optimal_threshold = thresholds[optimal_idx]\n",
    "    optimal_f1 = f1_scores[optimal_idx]\n",
    "\n",
    "    print(f\"ROC AUC: {roc_auc_score(y_test, y_prob):.4f}\")\n",
    "    print(f\"Optimal F1-Score: {optimal_f1:.4f} trovato alla soglia: {optimal_threshold:.2f}\")\n",
    "\n",
    "    if optimal_f1 > best_f1_score:\n",
    "        best_f1_score = optimal_f1\n",
    "        best_model_name = name\n",
    "        best_model_instance = best_clf_from_grid\n",
    "        best_model_threshold = optimal_threshold\n",
    "        print(f\"*** Nuovo miglior modello trovato: {name} ***\")"
   ]
  },
  {
   "cell_type": "code",
   "execution_count": 73,
   "id": "c39a9f64",
   "metadata": {},
   "outputs": [
    {
     "name": "stdout",
     "output_type": "stream",
     "text": [
      "\n",
      "--- Risultati Finali ---\n",
      "Il miglior modello è: Random Forest\n",
      "Con un F1-Score ottimizzato di 0.9922 alla soglia 0.40\n",
      "\n",
      "Classification Report Finale (con soglia ottimale):\n",
      "              precision    recall  f1-score   support\n",
      "\n",
      "           0       1.00      1.00      1.00      1716\n",
      "           1       0.99      0.99      0.99       192\n",
      "\n",
      "    accuracy                           1.00      1908\n",
      "   macro avg       0.99      1.00      1.00      1908\n",
      "weighted avg       1.00      1.00      1.00      1908\n",
      "\n"
     ]
    },
    {
     "data": {
      "image/png": "[encoded data removed]",
      "text/plain": [
       "<Figure size 640x480 with 2 Axes>"
      ]
     },
     "metadata": {},
     "output_type": "display_data"
    }
   ],
   "source": [
    "print(\"\\n--- Risultati Finali ---\")\n",
    "print(f\"Il miglior modello è: {best_model_name}\")\n",
    "print(f\"Con un F1-Score ottimizzato di {best_f1_score:.4f} alla soglia {best_model_threshold:.2f}\")\n",
    "\n",
    "final_y_prob = best_model_instance.predict_proba(X_test_scaled)[:, 1]\n",
    "final_y_pred = (final_y_prob >= best_model_threshold).astype(int)\n",
    "\n",
    "print(\"\\nClassification Report Finale (con soglia ottimale):\")\n",
    "print(classification_report(y_test, final_y_pred))\n",
    "\n",
    "cm = confusion_matrix(y_test, final_y_pred)\n",
    "disp = ConfusionMatrixDisplay(confusion_matrix=cm, display_labels=best_model_instance.classes_)\n",
    "disp.plot(cmap=plt.cm.Blues)\n",
    "plt.title(f\"Matrice di Confusione - {best_model_name}\")\n",
    "plt.show()"
   ]
  },
  {
   "cell_type": "code",
   "execution_count": 74,
   "id": "8f47f420",
   "metadata": {},
   "outputs": [
    {
     "data": {
      "text/plain": [
       "['models/scaler.pkl']"
      ]
     },
     "execution_count": 74,
     "metadata": {},
     "output_type": "execute_result"
    }
   ],
   "source": [
    "model_path = os.path.join('models/best_model.pkl')\n",
    "scaler_path = os.path.join('models/scaler.pkl')\n",
    "# salvo il miglior modello e lo scaler\n",
    "joblib.dump(best_model_instance, model_path)\n",
    "joblib.dump(scaler, scaler_path)"
   ]
  },
  {
   "cell_type": "code",
   "execution_count": 75,
   "id": "6eb2db35",
   "metadata": {},
   "outputs": [
    {
     "name": "stdout",
     "output_type": "stream",
     "text": [
      "\n",
      "Feature più importanti secondo il modello:\n",
      "                            Feature  Importance\n",
      "5             InsulinaSiericaDueOre    0.539622\n",
      "2       NumeroTagliCesareiPregressi    0.152809\n",
      "3          PrecedentePlacentaPrevia    0.146605\n",
      "7            FecondazioneAssisitita    0.078521\n",
      "4  SanguinamentiNelSecondoTrimestre    0.054548\n",
      "1         NumeroGravidanzePregresse    0.014357\n",
      "0                               Eta    0.007714\n",
      "6             IndiceDiMassaCorporea    0.005824\n"
     ]
    },
    {
     "data": {
      "image/png": "[encoded data removed]",
      "text/plain": [
       "<Figure size 1000x800 with 1 Axes>"
      ]
     },
     "metadata": {},
     "output_type": "display_data"
    }
   ],
   "source": [
    "# Estrai le feature importances se il modello le supporta (es. RandomForest, XGBoost)\n",
    "feature_importances = pd.DataFrame({\n",
    "    'Feature': X.columns,\n",
    "    'Importance': best_model_instance.feature_importances_\n",
    "}).sort_values('Importance', ascending=False)\n",
    "\n",
    "print(\"\\nFeature più importanti secondo il modello:\")\n",
    "print(feature_importances)\n",
    "\n",
    "# Visualizza le feature importances\n",
    "plt.figure(figsize=(10, 8))\n",
    "sns.barplot(x='Importance', y='Feature', data=feature_importances)\n",
    "plt.title(f'Feature Importances - {best_model_name}')\n",
    "plt.show()\n"
   ]
  },
  {
   "cell_type": "code",
   "execution_count": 76,
   "id": "74925bd7",
   "metadata": {},
   "outputs": [
    {
     "data": {
      "text/plain": [
       "(1, np.float64(0.6275))"
      ]
     },
     "execution_count": 76,
     "metadata": {},
     "output_type": "execute_result"
    }
   ],
   "source": [
    "\n",
    "def PredictPlacentaPrevia(\n",
    "    Eta: int,\n",
    "    NumeroGravidanzePregresse: int,\n",
    "    NumeroTagliCesareiPregressi: int,\n",
    "    PrecedentePlacentaPrevia: int,\n",
    "    SanguinamentiNelSecondoTrimestre: int,\n",
    "    InsulinaSiericaDueOre: float,\n",
    "    IndiceDiMassaCorporea: float,\n",
    "    FecondazioneAssisitita: int\n",
    ") -> tuple[int, float]:\n",
    "    \n",
    "    \n",
    "    MODEL_PATH = 'models/best_model.pkl'\n",
    "    SCALER_PATH = 'models/scaler.pkl'\n",
    "    \n",
    "    # Soglia ottimale per la previsione\n",
    "    OPTIMAL_THRESHOLD = 0.40\n",
    "\n",
    "    try: # carico modello e scaler\n",
    "        model = joblib.load(MODEL_PATH)\n",
    "        scaler = joblib.load(SCALER_PATH)\n",
    "    except FileNotFoundError:\n",
    "        print(\"Errore: File del modello o dello scaler non trovati. Controllare i percorsi.\")\n",
    "        return -1, -1.0 # Restituisce un valore di errore\n",
    "\n",
    "    # Elenco delle colonne nell'ordine corretto in cui il modello è stato addestrato\n",
    "    feature_names = [\n",
    "        'Eta', 'NumeroGravidanzePregresse', 'NumeroTagliCesareiPregressi',\n",
    "        'PrecedentePlacentaPrevia', 'SanguinamentiNelSecondoTrimestre',\n",
    "        'InsulinaSiericaDueOre', 'IndiceDiMassaCorporea', 'FecondazioneAssisitita'\n",
    "    ]\n",
    "\n",
    "    # Crea un dizionario con i dati di input\n",
    "    input_data = {\n",
    "        'Eta': [Eta],\n",
    "        'NumeroGravidanzePregresse': [NumeroGravidanzePregresse],\n",
    "        'NumeroTagliCesareiPregressi': [NumeroTagliCesareiPregressi],\n",
    "        'PrecedentePlacentaPrevia': [PrecedentePlacentaPrevia],\n",
    "        'SanguinamentiNelSecondoTrimestre': [SanguinamentiNelSecondoTrimestre],\n",
    "        'InsulinaSiericaDueOre': [InsulinaSiericaDueOre],\n",
    "        'IndiceDiMassaCorporea': [IndiceDiMassaCorporea],\n",
    "        'FecondazioneAssisitita': [FecondazioneAssisitita]\n",
    "    }\n",
    "    # Crea un DataFrame dai dati di input\n",
    "    input_df = pd.DataFrame(input_data, columns=feature_names)\n",
    "\n",
    "    #Standardizzare i dati di input usando lo scaler addestrato\n",
    "    input_scaled = scaler.transform(input_df)\n",
    "\n",
    "    # Calcolare la probabilità usando il modello addestrato\n",
    "    prob_all_classes = model.predict_proba(input_scaled)\n",
    "    \n",
    "    # Estraiamo la probabilità della classe positiva (classe 1)\n",
    "    prob_positive_class = prob_all_classes[0, 1]\n",
    "\n",
    "    # Convertire la probabilità in una previsione finale usando la soglia ottimale\n",
    "    prediction = int(prob_positive_class >= OPTIMAL_THRESHOLD)\n",
    "\n",
    "    return prediction, prob_positive_class\n",
    "\n",
    "# test \n",
    "previsione, probabilità = PredictPlacentaPrevia(\n",
    "    Eta=25,\n",
    "    NumeroGravidanzePregresse=2,\n",
    "    NumeroTagliCesareiPregressi=2,\n",
    "    PrecedentePlacentaPrevia=1,\n",
    "    SanguinamentiNelSecondoTrimestre=1,\n",
    "    InsulinaSiericaDueOre=110,\n",
    "    IndiceDiMassaCorporea=32.5,\n",
    "    FecondazioneAssisitita=0\n",
    ")\n",
    "previsione, probabilità"
   ]
  },
  {
   "cell_type": "code",
   "execution_count": null,
   "id": "444799d5",
   "metadata": {},
   "outputs": [],
   "source": []
  }
 ],
 "metadata": {
  "kernelspec": {
   "display_name": "esame2",
   "language": "python",
   "name": "python3"
  },
  "language_info": {
   "codemirror_mode": {
    "name": "ipython",
    "version": 3
   },
   "file_extension": ".py",
   "mimetype": "text/x-python",
   "name": "python",
   "nbconvert_exporter": "python",
   "pygments_lexer": "ipython3",
   "version": "3.9.7"
  }
 },
 "nbformat": 4,
 "nbformat_minor": 5
}
